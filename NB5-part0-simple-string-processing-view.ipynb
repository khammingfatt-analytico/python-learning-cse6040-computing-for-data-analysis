{
 "cells": [
  {
   "cell_type": "markdown",
   "metadata": {
    "deletable": false,
    "editable": false,
    "nbgrader": {
     "grade": false,
     "locked": true,
     "solution": false
    },
    "tags": [
     "notebook_header"
    ]
   },
   "source": [
    "# Part 0 of 2: Simple string processing review\n",
    "\n",
    "**Exercise ordering:** Each exercise builds logically on previous exercises, but you may solve them in any order. That is, if you can't solve an exercise, you can still move on and try the next one. Use this to your advantage, as the exercises are **not** necessarily ordered in terms of difficulty. Higher point values generally indicate more difficult exercises. \n",
    "\n",
    "**Demo cells:** Code cells starting with the comment `### define demo inputs` load results from prior exercises applied to the entire data set and use those to build demo inputs. These must be run for subsequent demos to work properly, but they do not affect the test cells. The data loaded in these cells may be rather large (at least in terms of human readability). You are free to print or otherwise use Python to explore them, but we did not print them in the starter code.\n",
    "\n",
    "**Debugging your code:** Right before each exercise test cell, there is a block of text explaining the variables available to you for debugging. You may use these to test your code and can print/display them as needed (careful when printing large objects, you may want to print the head or chunks of rows at a time).\n",
    "\n",
    "**Exercise point breakdown:**\n",
    "\n",
    "- Exercise 0: **1** point\n",
    "- Exercise 1: **2** points\n",
    "- Exercise 2: **2** points\n",
    "- Exercise 3: **3** points\n",
    "\n",
    "**Final reminders:** \n",
    "\n",
    "- Submit after **every exercise**\n",
    "- Review the generated grade report after you submit to see what errors were returned\n",
    "- Stay calm, skip problems as needed, and take short breaks at your leisure\n"
   ]
  },
  {
   "cell_type": "code",
   "execution_count": 1,
   "metadata": {
    "collapsed": true,
    "scrolled": true
   },
   "outputs": [],
   "source": [
    "### Global Imports\n",
    "\n",
    "# Use this cell to import anything common, e.g. numpy, pandas, sqlite3\n",
    "import string\n",
    "\n",
    "# Use this cell to bring in the starter data"
   ]
  },
  {
   "cell_type": "code",
   "execution_count": 2,
   "metadata": {
    "collapsed": true
   },
   "outputs": [],
   "source": [
    "text = \"sgtEEEr2020.0\""
   ]
  },
  {
   "cell_type": "code",
   "execution_count": 3,
   "metadata": {},
   "outputs": [
    {
     "name": "stdout",
     "output_type": "stream",
     "text": [
      "1. False\n",
      "2. [True, True, True, True, True, True, True, False, False, False, False, False, False]\n"
     ]
    }
   ],
   "source": [
    "# Strings have methods for checking \"global\" string properties\n",
    "print(\"1.\", text.isalpha())\n",
    "\n",
    "# These can also be applied per character\n",
    "print(\"2.\", [c.isalpha() for c in text])"
   ]
  },
  {
   "cell_type": "code",
   "execution_count": 4,
   "metadata": {},
   "outputs": [
    {
     "name": "stdout",
     "output_type": "stream",
     "text": [
      "BELOW: (global) -> (per character)\n",
      "False --> [False, False, False, False, False, False, False, True, True, True, True, False, True]\n",
      "False --> [False, False, False, False, False, False, False, False, False, False, False, False, False]\n",
      "False --> [True, True, True, False, False, False, True, False, False, False, False, False, False]\n",
      "False --> [False, False, False, True, True, True, False, False, False, False, False, False, False]\n",
      "False --> [False, False, False, False, False, False, False, True, True, True, True, False, True]\n"
     ]
    }
   ],
   "source": [
    "# Here are a bunch of additional useful methods\n",
    "print(\"BELOW: (global) -> (per character)\")\n",
    "print(text.isdigit(), \"-->\", [c.isdigit() for c in text])\n",
    "print(text.isspace(), \"-->\", [c.isspace() for c in text])\n",
    "print(text.islower(), \"-->\", [c.islower() for c in text])\n",
    "print(text.isupper(), \"-->\", [c.isupper() for c in text])\n",
    "print(text.isnumeric(), \"-->\", [c.isnumeric() for c in text])"
   ]
  },
  {
   "cell_type": "markdown",
   "metadata": {
    "deletable": false,
    "editable": false,
    "nbgrader": {
     "grade": false,
     "locked": true,
     "solution": false
    },
    "tags": [
     "exercise_text"
    ]
   },
   "source": [
    "**Exercise 0** (1 point). Create a new function that checks whether a given input string is a properly formatted social security number, i.e., has the pattern, `XXX-XX-XXXX`, _including_ the separator dashes, where each `X` is a digit. It should return `True` if so or `False` otherwise."
   ]
  },
  {
   "cell_type": "code",
   "execution_count": 5,
   "metadata": {
    "collapsed": true,
    "deletable": false,
    "editable": false,
    "nbgrader": {
     "grade": false,
     "locked": true,
     "solution": false
    },
    "tags": [
     "demo_data"
    ]
   },
   "outputs": [],
   "source": [
    "### Define demo inputs\n",
    "demo_str_ex0_0 = '832-38-1847'\n",
    "demo_str_ex0_1 = '832 -38 -  1847'\n",
    "demo_str_ex0_2 = '832-bc-3847'\n",
    "demo_str_ex0_3 = '832381847'"
   ]
  },
  {
   "cell_type": "markdown",
   "metadata": {
    "deletable": false,
    "editable": false,
    "nbgrader": {
     "grade": false,
     "locked": true,
     "solution": false
    },
    "tags": [
     "demo_output_md"
    ]
   },
   "source": [
    "<!-- Expected demo output text block -->\n",
    "The demos included in the solution cell below should display the following output:\n",
    "```\n",
    "is_ssn('832-38-1847') -> True\n",
    "is_ssn('832 -38 -  1847') -> False\n",
    "is_ssn('832-bc-3847') -> False\n",
    "is_ssn('832381847') -> False\n",
    "```\n",
    "<!-- Include any shout outs here -->"
   ]
  },
  {
   "cell_type": "code",
   "execution_count": 6,
   "metadata": {
    "tags": [
     "exercise_solution"
    ]
   },
   "outputs": [
    {
     "data": {
      "text/plain": [
       "True"
      ]
     },
     "execution_count": 6,
     "metadata": {},
     "output_type": "execute_result"
    }
   ],
   "source": [
    "def is_ssn(s):\n",
    "    if len(s) != 11:\n",
    "        return False\n",
    "    \n",
    "    for i in range(len(s)):\n",
    "        if i in [3, 6]:\n",
    "            if s[i] != '-':\n",
    "                return False\n",
    "        else:\n",
    "            if not s[i].isdigit():\n",
    "                return False\n",
    "    return True\n",
    "    \n",
    "### demo function call\n",
    "is_ssn(demo_str_ex0_0)"
   ]
  },
  {
   "cell_type": "markdown",
   "metadata": {
    "deletable": false,
    "editable": false,
    "nbgrader": {
     "grade": false,
     "locked": true,
     "solution": false
    },
    "tags": [
     "test_data_boilerplate"
    ]
   },
   "source": [
    "<!-- Test Cell Boilerplate -->\n",
    "The cell below will test your solution for Exercise 0. The testing variables will be available for debugging under the following names in a dictionary format.\n",
    "- `input_vars` - Input variables for your solution. \n",
    "- `original_input_vars` - Copy of input variables from prior to running your solution. These _should_ be the same as `input_vars` - otherwise the inputs were modified by your solution.\n",
    "- `returned_output_vars` - Outputs returned by your solution.\n",
    "- `true_output_vars` - The expected output. This _should_ \"match\" `returned_output_vars` based on the question requirements - otherwise, your solution is not returning the correct output. "
   ]
  },
  {
   "cell_type": "code",
   "execution_count": 7,
   "metadata": {
    "deletable": false,
    "editable": false,
    "nbgrader": {
     "grade": true,
     "grade_id": "ex0",
     "locked": true,
     "points": "1",
     "solution": false
    },
    "tags": []
   },
   "outputs": [
    {
     "name": "stdout",
     "output_type": "stream",
     "text": [
      "Passed! Please submit.\n"
     ]
    }
   ],
   "source": [
    "### test_cell_ex0\n",
    "\n",
    "from tester_fw.testers import Tester\n",
    "\n",
    "conf = {\n",
    "    'case_file':'tc_0', \n",
    "    'func': is_ssn, # replace this with the function defined above\n",
    "    'inputs':{ # input config dict. keys are parameter names\n",
    "        's':{\n",
    "            'dtype':'str', # data type of param.\n",
    "            'check_modified':False,\n",
    "        }\n",
    "    },\n",
    "    'outputs':{\n",
    "        'output_0':{\n",
    "            'index':0,\n",
    "            'dtype':'bool',\n",
    "            'check_dtype': True,\n",
    "            'check_col_dtypes': True, # Ignored if dtype is not df\n",
    "            'check_col_order': True, # Ignored if dtype is not df\n",
    "            'check_row_order': True, # Ignored if dtype is not df\n",
    "            'check_column_type': True, # Ignored if dtype is not df\n",
    "            'float_tolerance': 10 ** (-6)\n",
    "        }\n",
    "    }\n",
    "}\n",
    "tester = Tester(conf, key=b'F24oYNyh8kq_wkZD_Oo0ZCPHLcoO-xNXHOYNiPnQmmY=', path='resource/asnlib/publicdata/')\n",
    "for _ in range(70):\n",
    "    try:\n",
    "        tester.run_test()\n",
    "        (input_vars, original_input_vars, returned_output_vars, true_output_vars) = tester.get_test_vars()\n",
    "    except:\n",
    "        (input_vars, original_input_vars, returned_output_vars, true_output_vars) = tester.get_test_vars()\n",
    "        raise\n",
    "\n",
    "\n",
    "print('Passed! Please submit.')"
   ]
  },
  {
   "cell_type": "markdown",
   "metadata": {
    "deletable": false,
    "editable": false,
    "nbgrader": {
     "grade": false,
     "locked": true,
     "solution": false
    }
   },
   "source": [
    "# Regular expressions\n",
    "\n",
    "Exercise 0 hints at the general problem of finding patterns in text. A handy tool for this problem is Python's Regular Expression module, `re`.\n",
    "\n",
    "A _regular expression_ is a specially formatted pattern, written as a string. Matching patterns with regular expressions has 3 steps:\n",
    "\n",
    "1. You come up with a pattern to find.\n",
    "2. You compile it into a _pattern object_.\n",
    "3. You apply the pattern object to a string to find _matches_, i.e., instances of the pattern within the string.\n",
    "\n",
    "As you read through the examples below, refer also to the [regular expression HOWTO document](https://docs.python.org/3/howto/regex.html) for many more examples and details."
   ]
  },
  {
   "cell_type": "code",
   "execution_count": 8,
   "metadata": {
    "collapsed": true
   },
   "outputs": [],
   "source": [
    "import re"
   ]
  },
  {
   "cell_type": "markdown",
   "metadata": {
    "deletable": false,
    "editable": false,
    "nbgrader": {
     "grade": false,
     "locked": true,
     "solution": false
    }
   },
   "source": [
    "## Basics\n",
    "\n",
    "Let's see how this scheme works for the simplest case, in which the pattern is an *exact substring*. In the following example, suppose want to look for the substring `'fox'` within a larger input string."
   ]
  },
  {
   "cell_type": "code",
   "execution_count": 9,
   "metadata": {},
   "outputs": [
    {
     "name": "stdout",
     "output_type": "stream",
     "text": [
      "<re.Match object; span=(16, 19), match='fox'>\n"
     ]
    }
   ],
   "source": [
    "pattern = 'fox'\n",
    "pattern_matcher = re.compile(pattern)\n",
    "\n",
    "input_string = 'The quick brown fox jumps over the lazy dog'\n",
    "matches = pattern_matcher.search(input_string)\n",
    "print(matches)"
   ]
  },
  {
   "cell_type": "markdown",
   "metadata": {
    "deletable": false,
    "editable": false,
    "nbgrader": {
     "grade": false,
     "locked": true,
     "solution": false
    }
   },
   "source": [
    "Observe that the returned object, `matches`, is a special object. Inspecting the printed output, notice that the matching text, `'fox'`, was found and located at positions 16-18 of the `input_string`. Had there been no matches, then `.search()` would have returned `None`, as in this example:"
   ]
  },
  {
   "cell_type": "code",
   "execution_count": 10,
   "metadata": {},
   "outputs": [
    {
     "name": "stdout",
     "output_type": "stream",
     "text": [
      "None\n"
     ]
    }
   ],
   "source": [
    "print(pattern_matcher.search(\"This input has a FOX, but it's all uppercase and so won't match.\"))"
   ]
  },
  {
   "cell_type": "markdown",
   "metadata": {
    "deletable": false,
    "editable": false,
    "nbgrader": {
     "grade": false,
     "locked": true,
     "solution": false
    }
   },
   "source": [
    "You can also write code to query the `matches` object for more information."
   ]
  },
  {
   "cell_type": "code",
   "execution_count": 11,
   "metadata": {},
   "outputs": [
    {
     "name": "stdout",
     "output_type": "stream",
     "text": [
      "fox\n",
      "16\n",
      "19\n",
      "(16, 19)\n"
     ]
    }
   ],
   "source": [
    "print(matches.group())\n",
    "print(matches.start())\n",
    "print(matches.end())\n",
    "print(matches.span())"
   ]
  },
  {
   "cell_type": "markdown",
   "metadata": {
    "deletable": false,
    "editable": false,
    "nbgrader": {
     "grade": false,
     "locked": true,
     "solution": false
    }
   },
   "source": [
    "**Module-level searching.** For infrequently used patterns, you can also skip creating the pattern object and just call the module-level search function, `re.search()`."
   ]
  },
  {
   "cell_type": "code",
   "execution_count": 12,
   "metadata": {},
   "outputs": [
    {
     "name": "stdout",
     "output_type": "stream",
     "text": [
      "Found jump @ (20, 24)\n"
     ]
    }
   ],
   "source": [
    "matches_2 = re.search('jump', input_string)\n",
    "assert matches_2 is not None\n",
    "print (\"Found\", matches_2.group(), \"@\", matches_2.span())"
   ]
  },
  {
   "cell_type": "markdown",
   "metadata": {
    "deletable": false,
    "editable": false,
    "nbgrader": {
     "grade": false,
     "locked": true,
     "solution": false
    }
   },
   "source": [
    "**Other Search Methods.** Besides `search()`, there are several other pattern-matching procedures:\n",
    "\n",
    "1. `match()`    - Determine if the regular expression (RE) matches at the beginning of the string.\n",
    "2. `search()`   - Scan through a string, looking for any location where this RE matches.\n",
    "3. `findall()`  - Find all substrings where the RE matches, and returns them as a list.\n",
    "4. `finditer()` - Find all substrings where the RE matches, and returns them as an iterator.\n",
    "\n",
    "We'll use several of these below; again, refer to the [HOWTO](https://docs.python.org/3/howto/regex.html) for more details."
   ]
  },
  {
   "cell_type": "markdown",
   "metadata": {
    "deletable": false,
    "editable": false,
    "nbgrader": {
     "grade": false,
     "locked": true,
     "solution": false
    }
   },
   "source": [
    "## A pattern language\n",
    "\n",
    "An exact substring is one kind of pattern, but the power of regular expressions is that it provides an entire \"_mini-language_\" for specifying more general patterns.\n",
    "\n",
    "To start, read the section of the HOWTO on [\"Simple Patterns\"](https://docs.python.org/3/howto/regex.html#simple-patterns). We highlight a few constructs below."
   ]
  },
  {
   "cell_type": "code",
   "execution_count": 13,
   "metadata": {},
   "outputs": [
    {
     "name": "stdout",
     "output_type": "stream",
     "text": [
      "Scanning `The quick brown fox jumps over the lazy dog` for vowels, `[aeiou]`:\n",
      "<re.Match object; span=(2, 3), match='e'>\n",
      "<re.Match object; span=(5, 6), match='u'>\n",
      "<re.Match object; span=(6, 7), match='i'>\n",
      "<re.Match object; span=(12, 13), match='o'>\n",
      "<re.Match object; span=(17, 18), match='o'>\n",
      "<re.Match object; span=(21, 22), match='u'>\n",
      "<re.Match object; span=(26, 27), match='o'>\n",
      "<re.Match object; span=(28, 29), match='e'>\n",
      "<re.Match object; span=(33, 34), match='e'>\n",
      "<re.Match object; span=(36, 37), match='a'>\n",
      "<re.Match object; span=(41, 42), match='o'>\n"
     ]
    }
   ],
   "source": [
    "# Metacharacter classes\n",
    "vowels = '[aeiou]'\n",
    "\n",
    "print(f\"Scanning `{input_string}` for vowels, `{vowels}`:\")\n",
    "for match_vowel in re.finditer(vowels, input_string):\n",
    "    print(match_vowel)"
   ]
  },
  {
   "cell_type": "code",
   "execution_count": 14,
   "metadata": {},
   "outputs": [
    {
     "name": "stdout",
     "output_type": "stream",
     "text": [
      "Pattern: [aeiou]{2,}\n",
      "['ui']\n"
     ]
    }
   ],
   "source": [
    "# Counts: For instance, two or more consecutive vowels:\n",
    "two_or_more_vowels = vowels + '{2,}'\n",
    "print(f\"Pattern: {two_or_more_vowels}\")\n",
    "print(re.findall(two_or_more_vowels, input_string))"
   ]
  },
  {
   "cell_type": "code",
   "execution_count": 15,
   "metadata": {},
   "outputs": [
    {
     "name": "stdout",
     "output_type": "stream",
     "text": [
      "None\n",
      "<re.Match object; span=(15, 18), match='cat'>\n",
      "<re.Match object; span=(14, 21), match='caaaaat'>\n"
     ]
    }
   ],
   "source": [
    "# Wildcards\n",
    "cats = \"ca+t\"\n",
    "print(re.search(cats, \"is this a ct?\"))\n",
    "print(re.search(cats, \"how about this cat?\"))\n",
    "print(re.search(cats, \"and this one: caaaaat, yes or no?\"))"
   ]
  },
  {
   "cell_type": "code",
   "execution_count": 16,
   "metadata": {},
   "outputs": [
    {
     "name": "stdout",
     "output_type": "stream",
     "text": [
      "Scanning `The quick brown fox jumps over the lazy dog` for adjectives, `lazy|brown`:\n",
      "<re.Match object; span=(10, 15), match='brown'>\n",
      "<re.Match object; span=(35, 39), match='lazy'>\n"
     ]
    }
   ],
   "source": [
    "# Special operator: \"or\"\n",
    "adjectives = \"lazy|brown\"\n",
    "print(f\"Scanning `{input_string}` for adjectives, `{adjectives}`:\")\n",
    "for match_adjective in re.finditer(adjectives, input_string):\n",
    "    print(match_adjective)"
   ]
  },
  {
   "cell_type": "code",
   "execution_count": 17,
   "metadata": {},
   "outputs": [
    {
     "name": "stdout",
     "output_type": "stream",
     "text": [
      "['555', '123', '456']\n"
     ]
    }
   ],
   "source": [
    "# Predefined character classes\n",
    "three_digits = '\\d\\d\\d'\n",
    "print(re.findall(three_digits, \"My number is 555-123-4567\"))"
   ]
  },
  {
   "cell_type": "markdown",
   "metadata": {
    "deletable": false,
    "editable": false,
    "nbgrader": {
     "grade": false,
     "locked": true,
     "solution": false
    }
   },
   "source": [
    "> In the previous example, notice that the pattern search proceeds from left-to-right and does not return overlaps: here, the matcher returns `456` but not `567`. In fact, this case is an instance of the default [_greedy behavior_](https://docs.python.org/3/howto/regex.html#greedy-versus-non-greedy) of the matcher."
   ]
  },
  {
   "cell_type": "markdown",
   "metadata": {
    "deletable": false,
    "editable": false,
    "nbgrader": {
     "grade": false,
     "locked": true,
     "solution": false
    }
   },
   "source": [
    "**The backslash plague.** In the \"three-digits\" example, we used the predefined metacharacter class, `'\\d'`, to match slashes. But what if you want to match a _literal_ slash? The HOWTO describes how things can get out of control in its subsection on [\"The Backslash Plague\"](https://docs.python.org/3/howto/regex.html#the-backslash-plague), which occurs because the Python interpreter processes backslashes in string literals (e.g., so that `\\t` expands to a tab character and `\\n` to a newline) while the regular expression processor also gives backslashes meaning (e.g., so that `\\d` is a digit metaclass).\n",
    "\n",
    "For example, suppose you want to look for the text string, `\\section`, in some input string. Which of the following will match it? Recall that `\\s` is a predefined metacharacter class that matches any whitespace character."
   ]
  },
  {
   "cell_type": "code",
   "execution_count": 18,
   "metadata": {},
   "outputs": [
    {
     "name": "stdout",
     "output_type": "stream",
     "text": [
      "Searching: This string contains `\\section`, which we would like to match.\n",
      "None\n",
      "None\n",
      "<re.Match object; span=(22, 30), match='\\\\section'>\n"
     ]
    }
   ],
   "source": [
    "input_with_slash_section = \"This string contains `\\section`, which we would like to match.\"\n",
    "\n",
    "print(f\"Searching: {input_with_slash_section}\")\n",
    "\n",
    "print(re.search(\"\\section\", input_with_slash_section))\n",
    "print(re.search(\"\\\\section\", input_with_slash_section))\n",
    "print(re.search(\"\\\\\\\\section\", input_with_slash_section))"
   ]
  },
  {
   "cell_type": "markdown",
   "metadata": {
    "deletable": false,
    "editable": false,
    "nbgrader": {
     "grade": false,
     "locked": true,
     "solution": false
    }
   },
   "source": [
    "To help mitigate this case, Python provides a special type of string called a _raw string_, which is a string literal prefixed by the letter `r`. For such strings, the Python interpreter will not process the backslash.\n",
    "\n",
    "> Although the interpreter won't process the backslash, the regular expression processor will do so. As such, the pattern string still needs _two_ slashes, as shown below."
   ]
  },
  {
   "cell_type": "code",
   "execution_count": 19,
   "metadata": {},
   "outputs": [
    {
     "name": "stdout",
     "output_type": "stream",
     "text": [
      "None\n",
      "<re.Match object; span=(22, 30), match='\\\\section'>\n",
      "None\n"
     ]
    }
   ],
   "source": [
    "print(re.search(r\"\\section\", input_with_slash_section))\n",
    "print(re.search(r\"\\\\section\", input_with_slash_section))\n",
    "print(re.search(r\"\\\\\\\\section\", input_with_slash_section))"
   ]
  },
  {
   "cell_type": "markdown",
   "metadata": {
    "deletable": false,
    "editable": false,
    "nbgrader": {
     "grade": false,
     "locked": true,
     "solution": false
    }
   },
   "source": [
    "Indeed, it is common style to always use raw strings for regular expression patterns, as we'll do in the examples that follow."
   ]
  },
  {
   "cell_type": "markdown",
   "metadata": {
    "deletable": false,
    "editable": false,
    "nbgrader": {
     "grade": false,
     "locked": true,
     "solution": false
    }
   },
   "source": [
    "**Creating pattern groups.** Another handy construct are [_pattern groups_](https://docs.python.org/3/howto/regex.html#grouping), as we show in the next code cell.\n",
    "\n",
    "Suppose we have a string that we know contains a name of the form, \"(first) (middle) (last)\", where the middle name is _optional_. We can use pattern groups to isolate each component of the name and tag the middle name as optional using the \"zero-or-one\" metacharacter, `'?'`.\n",
    "\n",
    "The group itself is a subpattern enclosed within parentheses. When a match is found, we can extract the groups by calling `.groups()` on the match object, which returns a tuple of all matched groups.\n",
    "\n",
    "> To make this pattern more readable, we have also used Python's multiline string literal combined with the [`re.VERBOSE` option](https://docs.python.org/2/library/re.html#re.VERBOSE), which then allows us to include whitespace and comments as part of the pattern string."
   ]
  },
  {
   "cell_type": "code",
   "execution_count": 20,
   "metadata": {},
   "outputs": [
    {
     "name": "stdout",
     "output_type": "stream",
     "text": [
      "('Rich', None, 'Vuduc')\n",
      "('Rich', 'S ', 'Vuduc')\n",
      "('Rich', 'Salamander ', 'Vuduc')\n"
     ]
    }
   ],
   "source": [
    "# Make the expression more readable with a re.VERBOSE pattern\n",
    "re_names2 = re.compile(r'''^              # Beginning of string\n",
    "                           ([a-zA-Z]+)    # First name\n",
    "                           \\s+            # At least one space\n",
    "                           ([a-zA-Z]+\\s)? # Optional middle name\n",
    "                           ([a-zA-Z]+)    # Last name\n",
    "                           $              # End of string\n",
    "                        ''',\n",
    "                        re.VERBOSE)\n",
    "print(re_names2.match('Rich Vuduc').groups())\n",
    "print(re_names2.match('Rich S Vuduc').groups())\n",
    "print(re_names2.match('Rich Salamander Vuduc').groups())"
   ]
  },
  {
   "cell_type": "markdown",
   "metadata": {
    "deletable": false,
    "editable": false,
    "nbgrader": {
     "grade": false,
     "locked": true,
     "solution": false
    }
   },
   "source": [
    "**Tagging pattern groups.** You can also name pattern groups, which helps make your extraction code a bit more readable."
   ]
  },
  {
   "cell_type": "code",
   "execution_count": 21,
   "metadata": {},
   "outputs": [
    {
     "name": "stdout",
     "output_type": "stream",
     "text": [
      "Rich\n",
      "S \n",
      "Vuduc\n"
     ]
    }
   ],
   "source": [
    "# Named groups\n",
    "re_names3 = re.compile(r'''^\n",
    "                           (?P<first>[a-zA-Z]+)\n",
    "                           \\s\n",
    "                           (?P<middle>[a-zA-Z]+\\s)?\n",
    "                           \\s*\n",
    "                           (?P<last>[a-zA-Z]+)\n",
    "                           $\n",
    "                        ''',\n",
    "                        re.VERBOSE)\n",
    "print(re_names3.match('Rich Vuduc').group('first'))\n",
    "print(re_names3.match('Rich S Vuduc').group('middle'))\n",
    "print(re_names3.match('Rich Salamander Vuduc').group('last'))"
   ]
  },
  {
   "cell_type": "markdown",
   "metadata": {
    "deletable": false,
    "editable": false,
    "nbgrader": {
     "grade": false,
     "locked": true,
     "solution": false
    }
   },
   "source": [
    "**A regular expression debugger.** Regular expressions can be tough to write and debug, but thankfully, there are several online tools to help! See, for instance, [regex101](https://regex101.com/), [pythex](https://pythex.org/), [regexr](https://regexr.com/), or [debuggex](https://www.debuggex.com/). These all allow you to supply some sample input text and test what your pattern does in real time."
   ]
  },
  {
   "cell_type": "markdown",
   "metadata": {
    "deletable": false,
    "editable": false,
    "nbgrader": {
     "grade": false,
     "locked": true,
     "solution": false
    }
   },
   "source": [
    "## Email addresses\n",
    "\n",
    "In the next exercise, you'll apply what you've read and learned about regular expressions to build a pattern matcher for email addresses. Again, if you haven't looked through the HOWTO yet, take a moment to do that!\n",
    "\n",
    "Although there is a [formal specification of what constitutes a valid email address](https://tools.ietf.org/html/rfc5322#section-3.4.1), for this exercise, let's use the following simplified rules.\n",
    "\n",
    "* We will restrict our attention to ASCII addresses and ignore Unicode. If you don't know what that means, don't worry about it---you shouldn't need to do anything special given our code templates, below.\n",
    "* An email address has two parts, the username and the domain name. These are separated by an `@` character.\n",
    "* A username **must begin with an alphabetic** character. It may be followed by any number of additional _alphanumeric_ characters or any of the following special characters: `.` (period), `-` (hyphen), `_` (underscore), or `+` (plus).\n",
    "* A domain name **must end with an alphabetic** character. It may consist of any of the following characters: alphanumeric characters, `.` (period), `-` (hyphen), or `_` (underscore).\n",
    "* Alphabetic characters may be uppercase or lowercase.\n",
    "* No whitespace characters are allowed.\n",
    "\n",
    "Valid domain names usually have additional restrictions, e.g., there are a limited number of endings, such as `.com`, `.edu`, and so on. However, for this exercise you may ignore this fact."
   ]
  },
  {
   "cell_type": "markdown",
   "metadata": {
    "deletable": false,
    "editable": false,
    "nbgrader": {
     "grade": false,
     "locked": true,
     "solution": false
    },
    "tags": [
     "exercise_text"
    ]
   },
   "source": [
    "**Exercise 1** (2 points). Write a function `parse_email` that, given an email address `s`, returns a tuple, `(user-id, domain)` corresponding to the user name and domain name.\n",
    "\n",
    "For instance, given `richie@cc.gatech.edu` it should return `('richie', 'cc.gatech.edu')`.\n",
    "\n",
    "Your function should parse the email only if it exactly matches the email specification. For example, if there are leading or trailing spaces, the function should *not* match those. See the test cases for examples.\n",
    "\n",
    "If the input is not a valid email address, the function should raise a `ValueError`.\n",
    "\n",
    "> The requirement, \"raise a `ValueError`\" refers to a technique for handling errors in a program known as _exception handling_. The Python documentation covers [exceptions](https://docs.python.org/3/tutorial/errors.html) in more detail, including [raising `ValueError` objects](https://docs.python.org/3/tutorial/errors.html#raising-exceptions)."
   ]
  },
  {
   "cell_type": "markdown",
   "metadata": {
    "deletable": false,
    "editable": false,
    "nbgrader": {
     "grade": false,
     "locked": true,
     "solution": false
    },
    "tags": [
     "exercise_text"
    ]
   },
   "source": [
    "We have provided wrapper function `eif_wrapper`. This wrapper will capture whether or not your function raised a `ValueError` and the returned value from the function. Additionally, any `ValueErrors` raised by your function will not halt execution of the notebook.\n",
    "\n",
    "`eif_wrapper` is provided for you in the cell below. The function inputs are `s`, the input to be evaluated, and `func` the function that can raise a `ValueError`."
   ]
  },
  {
   "cell_type": "code",
   "execution_count": 22,
   "metadata": {
    "collapsed": true
   },
   "outputs": [],
   "source": [
    "# ValueError wrapper\n",
    "def eif_wrapper(s, func):\n",
    "    \"\"\"\n",
    "    Returns a (bool, function return) pair where the first element is True when a ValueError is raised \n",
    "    and False if a Value Error is not raised. The second output is the return value from calling `func(s)`.\n",
    "    \"\"\"\n",
    "    raised_value_error = False\n",
    "    result = None\n",
    "    try:\n",
    "        result = func(s)\n",
    "    except ValueError:\n",
    "        raised_value_error = True\n",
    "    finally:\n",
    "        return (raised_value_error, result)"
   ]
  },
  {
   "cell_type": "code",
   "execution_count": 23,
   "metadata": {
    "collapsed": true,
    "deletable": false,
    "editable": false,
    "nbgrader": {
     "grade": false,
     "locked": true,
     "solution": false
    },
    "tags": [
     "demo_data"
    ]
   },
   "outputs": [],
   "source": [
    "### Define demo inputs\n",
    "demo_str_ex1_list = ['richie@cc.gatech.edu',\n",
    "                     'what-do-you-know+not-much@gmail.com',\n",
    "                     'x @hpcgarage.org',\n",
    "                     'richie@cc.gatech.edu7']"
   ]
  },
  {
   "cell_type": "markdown",
   "metadata": {
    "deletable": false,
    "editable": false,
    "nbgrader": {
     "grade": false,
     "locked": true,
     "solution": false
    },
    "tags": [
     "demo_output_md"
    ]
   },
   "source": [
    "<!-- Expected demo output text block -->\n",
    "The demo included in the solution cell below should display the following output:\n",
    "```\n",
    "eif_wrapper('richie@cc.gatech.edu', parse_email) -> (False, ('richie', 'cc.gatech.edu'))\n",
    "eif_wrapper('what-do-you-know+not-much@gmail.com', parse_email) -> (False, ('what-do-you-know+not-much', 'gmail.com'))\n",
    "eif_wrapper('x @hpcgarage.org', parse_email) -> (True, None)\n",
    "eif_wrapper('richie@cc.gatech.edu7', parse_email) -> (True, None)\n",
    "```\n",
    "<!-- Include any shout outs here -->"
   ]
  },
  {
   "cell_type": "code",
   "execution_count": 24,
   "metadata": {
    "tags": [
     "exercise_solution"
    ]
   },
   "outputs": [
    {
     "name": "stdout",
     "output_type": "stream",
     "text": [
      "('example', 'domain.com')\n"
     ]
    }
   ],
   "source": [
    "import re\n",
    "\n",
    "def parse_email(s):\n",
    "    # Define the regex pattern for the email\n",
    "    email_pattern = r'^[a-zA-Z][\\w\\.\\+\\-]*@[a-zA-Z0-9\\.\\_\\-]*[a-zA-Z]$'\n",
    "    \n",
    "    # Check if the input string matches the pattern\n",
    "    if re.fullmatch(email_pattern, s):\n",
    "        # Split the email into user-id and domain\n",
    "        user_id, domain = s.split('@')\n",
    "        return (user_id, domain)\n",
    "    else:\n",
    "        # Raise a ValueError if the email is invalid\n",
    "        raise ValueError(f\"Invalid email address: {s}\")\n",
    "\n",
    "# Example usage to validate the updated pattern\n",
    "try:\n",
    "    print(parse_email(\"example@domain.com\"))\n",
    "except ValueError as e:\n",
    "    print(e)"
   ]
  },
  {
   "cell_type": "markdown",
   "metadata": {
    "deletable": false,
    "editable": false,
    "nbgrader": {
     "grade": false,
     "locked": true,
     "solution": false
    },
    "tags": [
     "test_data_boilerplate"
    ]
   },
   "source": [
    "<!-- Test Cell Boilerplate -->\n",
    "The cell below will test your solution for Exercise 1. The testing variables will be available for debugging under the following names in a dictionary format.\n",
    "- `input_vars` - Input variables for your solution. \n",
    "- `original_input_vars` - Copy of input variables from prior to running your solution. These _should_ be the same as `input_vars` - otherwise the inputs were modified by your solution.\n",
    "- `returned_output_vars` - Outputs returned by your solution.\n",
    "- `true_output_vars` - The expected output. This _should_ \"match\" `returned_output_vars` based on the question requirements - otherwise, your solution is not returning the correct output. "
   ]
  },
  {
   "cell_type": "code",
   "execution_count": 25,
   "metadata": {
    "deletable": false,
    "editable": false,
    "nbgrader": {
     "grade": true,
     "grade_id": "ex1",
     "locked": true,
     "points": "2",
     "solution": false
    },
    "scrolled": false,
    "tags": []
   },
   "outputs": [
    {
     "name": "stdout",
     "output_type": "stream",
     "text": [
      "Passed! Please submit.\n"
     ]
    }
   ],
   "source": [
    "### test_cell_ex1\n",
    "from tester_fw.testers import Tester\n",
    "\n",
    "conf = {\n",
    "    'case_file':'tc_1', \n",
    "    'func': lambda s: eif_wrapper(s, parse_email), # replace this with the function defined above\n",
    "    'inputs':{ # input config dict. keys are parameter names\n",
    "        's':{\n",
    "            'dtype':'str', # data type of param.\n",
    "            'check_modified':False,\n",
    "        }\n",
    "    },\n",
    "    'outputs':{\n",
    "        'output_0':{\n",
    "            'index':0,\n",
    "            'dtype':'bool',\n",
    "            'check_dtype': True,\n",
    "            'check_col_dtypes': True, # Ignored if dtype is not df\n",
    "            'check_col_order': True, # Ignored if dtype is not df\n",
    "            'check_row_order': True, # Ignored if dtype is not df\n",
    "            'check_column_type': True, # Ignored if dtype is not df\n",
    "            'float_tolerance': 10 ** (-6)\n",
    "        },\n",
    "        'output_1':{\n",
    "            'index':1,\n",
    "            'dtype':'NoneType',\n",
    "            'check_dtype': True,\n",
    "            'check_col_dtypes': True, # Ignored if dtype is not df\n",
    "            'check_col_order': True, # Ignored if dtype is not df\n",
    "            'check_row_order': True, # Ignored if dtype is not df\n",
    "            'check_column_type': True, # Ignored if dtype is not df\n",
    "            'float_tolerance': 10 ** (-6)\n",
    "        }\n",
    "    }\n",
    "}\n",
    "tester = Tester(conf, key=b'F24oYNyh8kq_wkZD_Oo0ZCPHLcoO-xNXHOYNiPnQmmY=', path='resource/asnlib/publicdata/')\n",
    "for _ in range(70):\n",
    "    try:\n",
    "        tester.run_test()\n",
    "        (input_vars, original_input_vars, returned_output_vars, true_output_vars) = tester.get_test_vars()\n",
    "    except:\n",
    "        (input_vars, original_input_vars, returned_output_vars, true_output_vars) = tester.get_test_vars()\n",
    "        raise\n",
    "\n",
    "print('Passed! Please submit.')"
   ]
  },
  {
   "cell_type": "markdown",
   "metadata": {
    "deletable": false,
    "editable": false,
    "nbgrader": {
     "grade": false,
     "locked": true,
     "solution": false
    }
   },
   "source": [
    "## Phone numbers"
   ]
  },
  {
   "cell_type": "markdown",
   "metadata": {
    "deletable": false,
    "editable": false,
    "nbgrader": {
     "grade": false,
     "locked": true,
     "solution": false
    },
    "tags": [
     "exercise_text"
    ]
   },
   "source": [
    "**Exercise 2** (2 points). Write a function to parse US phone numbers written in the canonical \"(404) 555-1212\" format, i.e., a three-digit area code enclosed in parentheses followed by a seven-digit local number in three-hyphen-four digit format. It should also **ignore** all leading and trailing spaces, as well as any spaces that appear between the area code and local numbers. However, it should **not** accept any spaces in the area code (e.g., in '(404)') nor should it in the seven-digit local number.\n",
    "\n",
    "For example, these would be considered valid phone number strings:\n",
    "```python\n",
    "    '(404) 121-2121'\n",
    "    '(404)121-2121     '\n",
    "    '   (404)      121-2121'\n",
    "```\n",
    "\n",
    "By contrast, these should be rejected:\n",
    "```python\n",
    "    '404-121-2121'\n",
    "    '(404)555 -1212'\n",
    "    ' ( 404)121-2121'\n",
    "    '(abc) 555-12i2'\n",
    "```\n",
    "\n",
    "It should return a triple of strings, `(area_code, first_three, last_four)`. \n",
    "\n",
    "If the input is not a valid phone number, it should raise a `ValueError`.\n",
    "\n",
    "The same wrapper function `eif_wrapper` from Exercise 1 will be used for evaluation."
   ]
  },
  {
   "cell_type": "code",
   "execution_count": 26,
   "metadata": {
    "collapsed": true,
    "deletable": false,
    "editable": false,
    "nbgrader": {
     "grade": false,
     "locked": true,
     "solution": false
    },
    "tags": [
     "demo_data"
    ]
   },
   "outputs": [],
   "source": [
    "### Define demo inputs\n",
    "demo_str_ex2_list = ['(404) 121-2121',\n",
    "                     '404-121-2121']"
   ]
  },
  {
   "cell_type": "markdown",
   "metadata": {
    "deletable": false,
    "editable": false,
    "nbgrader": {
     "grade": false,
     "locked": true,
     "solution": false
    },
    "tags": [
     "demo_output_md"
    ]
   },
   "source": [
    "<!-- Expected demo output text block -->\n",
    "The demo included in the solution cell below should display the following output:\n",
    "```\n",
    "eif_wrapper('(404) 121-2121', parse_phone1) -> (False, ('404', '121', '2121'))\n",
    "eif_wrapper('404-121-2121', parse_phone1) -> (True, None)\n",
    "```\n",
    "<!-- Include any shout outs here -->\n",
    "**Recall that `eif_wrapper` returns two outputs**:\n",
    "- `bool` indicating whether or not your function raised a `ValueError`\n",
    "- `tuple` (the result of your parsing function) or `None` (when the parsing function raises an error)"
   ]
  },
  {
   "cell_type": "code",
   "execution_count": 27,
   "metadata": {
    "collapsed": true,
    "tags": [
     "exercise_solution"
    ]
   },
   "outputs": [],
   "source": [
    "def parse_phone1(s):\n",
    "    # Remove leading and trailing spaces\n",
    "    s = s.strip()\n",
    "    \n",
    "    # Define the regex pattern for the phone number\n",
    "    phone_pattern = r'^\\(\\d{3}\\)\\s*\\d{3}-\\d{4}$'\n",
    "    \n",
    "    # Check if the input string matches the pattern\n",
    "    if re.fullmatch(phone_pattern, s):\n",
    "        # Extract the area code, first three digits, and last four digits using capturing groups\n",
    "        match = re.match(r'^\\((\\d{3})\\)\\s*(\\d{3})-(\\d{4})$', s)\n",
    "        area_code = match.group(1)\n",
    "        first_three = match.group(2)\n",
    "        last_four = match.group(3)\n",
    "        return (area_code, first_three, last_four)\n",
    "    else:\n",
    "        # Raise a ValueError if the phone number is invalid\n",
    "        raise ValueError(f\"Invalid phone number: {s}\")"
   ]
  },
  {
   "cell_type": "markdown",
   "metadata": {
    "deletable": false,
    "editable": false,
    "nbgrader": {
     "grade": false,
     "locked": true,
     "solution": false
    },
    "tags": [
     "test_data_boilerplate"
    ]
   },
   "source": [
    "<!-- Test Cell Boilerplate -->\n",
    "The cell below will test your solution for Exercise 2. The testing variables will be available for debugging under the following names in a dictionary format.\n",
    "- `input_vars` - Input variables for your solution. \n",
    "- `original_input_vars` - Copy of input variables from prior to running your solution. These _should_ be the same as `input_vars` - otherwise the inputs were modified by your solution.\n",
    "- `returned_output_vars` - Outputs returned by your solution.\n",
    "- `true_output_vars` - The expected output. This _should_ \"match\" `returned_output_vars` based on the question requirements - otherwise, your solution is not returning the correct output. "
   ]
  },
  {
   "cell_type": "code",
   "execution_count": 28,
   "metadata": {
    "scrolled": true
   },
   "outputs": [
    {
     "name": "stdout",
     "output_type": "stream",
     "text": [
      "Input variables: {'s': '(    920)72o-9714'}\n",
      "Returned output variables: {'output_0': True, 'output_1': None}\n",
      "Expected (True) output variables: {'output_0': True, 'output_1': None}\n",
      "Input variables: {'s': '(7z3)077-6a66    '}\n",
      "Returned output variables: {'output_0': True, 'output_1': None}\n",
      "Expected (True) output variables: {'output_0': True, 'output_1': None}\n",
      "Input variables: {'s': '   (44k     )620-a440'}\n",
      "Returned output variables: {'output_0': True, 'output_1': None}\n",
      "Expected (True) output variables: {'output_0': True, 'output_1': None}\n",
      "Input variables: {'s': '(023)344-2636  '}\n",
      "Returned output variables: {'output_0': False, 'output_1': ('023', '344', '2636')}\n",
      "Expected (True) output variables: {'output_0': False, 'output_1': ('023', '344', '2636')}\n",
      "Input variables: {'s': '(469)037-7829'}\n",
      "Returned output variables: {'output_0': False, 'output_1': ('469', '037', '7829')}\n",
      "Expected (True) output variables: {'output_0': False, 'output_1': ('469', '037', '7829')}\n",
      "Input variables: {'s': '(683)196-47o7'}\n",
      "Returned output variables: {'output_0': True, 'output_1': None}\n",
      "Expected (True) output variables: {'output_0': True, 'output_1': None}\n",
      "Input variables: {'s': '(653)4k0-4572'}\n",
      "Returned output variables: {'output_0': True, 'output_1': None}\n",
      "Expected (True) output variables: {'output_0': True, 'output_1': None}\n",
      "Input variables: {'s': '(424)532-71y7'}\n",
      "Returned output variables: {'output_0': True, 'output_1': None}\n",
      "Expected (True) output variables: {'output_0': True, 'output_1': None}\n",
      "Input variables: {'s': '(653)4k0-4572'}\n",
      "Returned output variables: {'output_0': True, 'output_1': None}\n",
      "Expected (True) output variables: {'output_0': True, 'output_1': None}\n",
      "Input variables: {'s': '(922)686-656x  '}\n",
      "Returned output variables: {'output_0': True, 'output_1': None}\n",
      "Expected (True) output variables: {'output_0': True, 'output_1': None}\n",
      "Input variables: {'s': '(038     )596-8180     '}\n",
      "Returned output variables: {'output_0': True, 'output_1': None}\n",
      "Expected (True) output variables: {'output_0': True, 'output_1': None}\n",
      "Input variables: {'s': '(158)  54j-0659'}\n",
      "Returned output variables: {'output_0': True, 'output_1': None}\n",
      "Expected (True) output variables: {'output_0': True, 'output_1': None}\n",
      "Input variables: {'s': ' (875)22k-7906'}\n",
      "Returned output variables: {'output_0': True, 'output_1': None}\n",
      "Expected (True) output variables: {'output_0': True, 'output_1': None}\n",
      "Input variables: {'s': ' (421     )441-2498'}\n",
      "Returned output variables: {'output_0': True, 'output_1': None}\n",
      "Expected (True) output variables: {'output_0': True, 'output_1': None}\n",
      "Input variables: {'s': '(741    )   705-3711   '}\n",
      "Returned output variables: {'output_0': True, 'output_1': None}\n",
      "Expected (True) output variables: {'output_0': True, 'output_1': None}\n",
      "Input variables: {'s': '(977)500-0039'}\n",
      "Returned output variables: {'output_0': False, 'output_1': ('977', '500', '0039')}\n",
      "Expected (True) output variables: {'output_0': False, 'output_1': ('977', '500', '0039')}\n",
      "Input variables: {'s': ' (a23)a8d-5a47'}\n",
      "Returned output variables: {'output_0': True, 'output_1': None}\n",
      "Expected (True) output variables: {'output_0': True, 'output_1': None}\n",
      "Input variables: {'s': '(a24)     400-5566'}\n",
      "Returned output variables: {'output_0': True, 'output_1': None}\n",
      "Expected (True) output variables: {'output_0': True, 'output_1': None}\n",
      "Input variables: {'s': '(    920)72o-9714'}\n",
      "Returned output variables: {'output_0': True, 'output_1': None}\n",
      "Expected (True) output variables: {'output_0': True, 'output_1': None}\n",
      "Input variables: {'s': ' ( 413     )857-9566'}\n",
      "Returned output variables: {'output_0': True, 'output_1': None}\n",
      "Expected (True) output variables: {'output_0': True, 'output_1': None}\n",
      "Input variables: {'s': '(231)   489-6180'}\n",
      "Returned output variables: {'output_0': False, 'output_1': ('231', '489', '6180')}\n",
      "Expected (True) output variables: {'output_0': False, 'output_1': ('231', '489', '6180')}\n",
      "Input variables: {'s': '(68g)377-1398'}\n",
      "Returned output variables: {'output_0': True, 'output_1': None}\n",
      "Expected (True) output variables: {'output_0': True, 'output_1': None}\n",
      "Input variables: {'s': '(683)196-47o7'}\n",
      "Returned output variables: {'output_0': True, 'output_1': None}\n",
      "Expected (True) output variables: {'output_0': True, 'output_1': None}\n",
      "Input variables: {'s': '    (627)206-9711'}\n",
      "Returned output variables: {'output_0': False, 'output_1': ('627', '206', '9711')}\n",
      "Expected (True) output variables: {'output_0': False, 'output_1': ('627', '206', '9711')}\n",
      "Input variables: {'s': '(162)951-i134    '}\n",
      "Returned output variables: {'output_0': True, 'output_1': None}\n",
      "Expected (True) output variables: {'output_0': True, 'output_1': None}\n",
      "Input variables: {'s': '(683)196-47o7'}\n",
      "Returned output variables: {'output_0': True, 'output_1': None}\n",
      "Expected (True) output variables: {'output_0': True, 'output_1': None}\n",
      "Input variables: {'s': '(    658)232-9300  '}\n",
      "Returned output variables: {'output_0': True, 'output_1': None}\n",
      "Expected (True) output variables: {'output_0': True, 'output_1': None}\n",
      "Input variables: {'s': '(    658)232-9300  '}\n",
      "Returned output variables: {'output_0': True, 'output_1': None}\n",
      "Expected (True) output variables: {'output_0': True, 'output_1': None}\n",
      "Input variables: {'s': '(    952)909-5673'}\n",
      "Returned output variables: {'output_0': True, 'output_1': None}\n",
      "Expected (True) output variables: {'output_0': True, 'output_1': None}\n",
      "Input variables: {'s': '(k05)073-6993 '}\n",
      "Returned output variables: {'output_0': True, 'output_1': None}\n",
      "Expected (True) output variables: {'output_0': True, 'output_1': None}\n",
      "Input variables: {'s': '   (106  )153-2082'}\n",
      "Returned output variables: {'output_0': True, 'output_1': None}\n",
      "Expected (True) output variables: {'output_0': True, 'output_1': None}\n",
      "Input variables: {'s': '(424)532-71y7'}\n",
      "Returned output variables: {'output_0': True, 'output_1': None}\n",
      "Expected (True) output variables: {'output_0': True, 'output_1': None}\n",
      "Input variables: {'s': '    (627)206-9711'}\n",
      "Returned output variables: {'output_0': False, 'output_1': ('627', '206', '9711')}\n",
      "Expected (True) output variables: {'output_0': False, 'output_1': ('627', '206', '9711')}\n",
      "Input variables: {'s': '(665)     137-3463'}\n",
      "Returned output variables: {'output_0': False, 'output_1': ('665', '137', '3463')}\n",
      "Expected (True) output variables: {'output_0': False, 'output_1': ('665', '137', '3463')}\n",
      "Input variables: {'s': '(f71)758-n295'}\n",
      "Returned output variables: {'output_0': True, 'output_1': None}\n",
      "Expected (True) output variables: {'output_0': True, 'output_1': None}\n",
      "Input variables: {'s': '(    920)72o-9714'}\n",
      "Returned output variables: {'output_0': True, 'output_1': None}\n",
      "Expected (True) output variables: {'output_0': True, 'output_1': None}\n",
      "Input variables: {'s': '(226)776-1627'}\n",
      "Returned output variables: {'output_0': False, 'output_1': ('226', '776', '1627')}\n",
      "Expected (True) output variables: {'output_0': False, 'output_1': ('226', '776', '1627')}\n",
      "Input variables: {'s': '(037)  781-6595'}\n",
      "Returned output variables: {'output_0': False, 'output_1': ('037', '781', '6595')}\n",
      "Expected (True) output variables: {'output_0': False, 'output_1': ('037', '781', '6595')}\n",
      "Input variables: {'s': '(424)532-71y7'}\n",
      "Returned output variables: {'output_0': True, 'output_1': None}\n",
      "Expected (True) output variables: {'output_0': True, 'output_1': None}\n",
      "Input variables: {'s': '(7z3)077-6a66    '}\n",
      "Returned output variables: {'output_0': True, 'output_1': None}\n",
      "Expected (True) output variables: {'output_0': True, 'output_1': None}\n",
      "Input variables: {'s': '(922)686-656x  '}\n",
      "Returned output variables: {'output_0': True, 'output_1': None}\n",
      "Expected (True) output variables: {'output_0': True, 'output_1': None}\n",
      "Input variables: {'s': '   (42v)009-9961'}\n",
      "Returned output variables: {'output_0': True, 'output_1': None}\n",
      "Expected (True) output variables: {'output_0': True, 'output_1': None}\n",
      "Input variables: {'s': '     (765)807-54g1'}\n",
      "Returned output variables: {'output_0': True, 'output_1': None}\n",
      "Expected (True) output variables: {'output_0': True, 'output_1': None}\n",
      "Input variables: {'s': '(891)202-0752   '}\n",
      "Returned output variables: {'output_0': False, 'output_1': ('891', '202', '0752')}\n",
      "Expected (True) output variables: {'output_0': False, 'output_1': ('891', '202', '0752')}\n",
      "Input variables: {'s': '(622) 465-1961'}\n",
      "Returned output variables: {'output_0': False, 'output_1': ('622', '465', '1961')}\n",
      "Expected (True) output variables: {'output_0': False, 'output_1': ('622', '465', '1961')}\n",
      "Input variables: {'s': '     (765)807-54g1'}\n",
      "Returned output variables: {'output_0': True, 'output_1': None}\n",
      "Expected (True) output variables: {'output_0': True, 'output_1': None}\n",
      "Input variables: {'s': ' ( 413     )857-9566'}\n",
      "Returned output variables: {'output_0': True, 'output_1': None}\n",
      "Expected (True) output variables: {'output_0': True, 'output_1': None}\n",
      "Input variables: {'s': '(023)344-2636  '}\n",
      "Returned output variables: {'output_0': False, 'output_1': ('023', '344', '2636')}\n",
      "Expected (True) output variables: {'output_0': False, 'output_1': ('023', '344', '2636')}\n",
      "Input variables: {'s': '(366)261-5846'}\n",
      "Returned output variables: {'output_0': False, 'output_1': ('366', '261', '5846')}\n",
      "Expected (True) output variables: {'output_0': False, 'output_1': ('366', '261', '5846')}\n",
      "Input variables: {'s': ' (2k0)139-5040'}\n",
      "Returned output variables: {'output_0': True, 'output_1': None}\n",
      "Expected (True) output variables: {'output_0': True, 'output_1': None}\n",
      "Input variables: {'s': '(979)644-2x09'}\n",
      "Returned output variables: {'output_0': True, 'output_1': None}\n",
      "Expected (True) output variables: {'output_0': True, 'output_1': None}\n",
      "Input variables: {'s': '(756)  7o8-9852'}\n",
      "Returned output variables: {'output_0': True, 'output_1': None}\n",
      "Expected (True) output variables: {'output_0': True, 'output_1': None}\n",
      "Input variables: {'s': '(    952)909-5673'}\n",
      "Returned output variables: {'output_0': True, 'output_1': None}\n",
      "Expected (True) output variables: {'output_0': True, 'output_1': None}\n",
      "Input variables: {'s': ' (875)22k-7906'}\n",
      "Returned output variables: {'output_0': True, 'output_1': None}\n",
      "Expected (True) output variables: {'output_0': True, 'output_1': None}\n",
      "Input variables: {'s': '(   225)460-2113'}\n",
      "Returned output variables: {'output_0': True, 'output_1': None}\n",
      "Expected (True) output variables: {'output_0': True, 'output_1': None}\n",
      "Input variables: {'s': '    (     d31)n50-4346'}\n",
      "Returned output variables: {'output_0': True, 'output_1': None}\n",
      "Expected (True) output variables: {'output_0': True, 'output_1': None}\n",
      "Input variables: {'s': '    (627)206-9711'}\n",
      "Returned output variables: {'output_0': False, 'output_1': ('627', '206', '9711')}\n",
      "Expected (True) output variables: {'output_0': False, 'output_1': ('627', '206', '9711')}\n",
      "Input variables: {'s': '(683)196-47o7'}\n",
      "Returned output variables: {'output_0': True, 'output_1': None}\n",
      "Expected (True) output variables: {'output_0': True, 'output_1': None}\n",
      "Input variables: {'s': '   (42v)009-9961'}\n",
      "Returned output variables: {'output_0': True, 'output_1': None}\n",
      "Expected (True) output variables: {'output_0': True, 'output_1': None}\n",
      "Input variables: {'s': '     (765)807-54g1'}\n",
      "Returned output variables: {'output_0': True, 'output_1': None}\n",
      "Expected (True) output variables: {'output_0': True, 'output_1': None}\n",
      "Input variables: {'s': '    (     d31)n50-4346'}\n",
      "Returned output variables: {'output_0': True, 'output_1': None}\n",
      "Expected (True) output variables: {'output_0': True, 'output_1': None}\n",
      "Input variables: {'s': '(102)494-7271'}\n",
      "Returned output variables: {'output_0': False, 'output_1': ('102', '494', '7271')}\n",
      "Expected (True) output variables: {'output_0': False, 'output_1': ('102', '494', '7271')}\n",
      "Input variables: {'s': '(114)065-5183'}\n",
      "Returned output variables: {'output_0': False, 'output_1': ('114', '065', '5183')}\n",
      "Expected (True) output variables: {'output_0': False, 'output_1': ('114', '065', '5183')}\n",
      "Input variables: {'s': '(577  )138-9229'}\n",
      "Returned output variables: {'output_0': True, 'output_1': None}\n",
      "Expected (True) output variables: {'output_0': True, 'output_1': None}\n",
      "Input variables: {'s': '(    571)5s3-8838'}\n",
      "Returned output variables: {'output_0': True, 'output_1': None}\n",
      "Expected (True) output variables: {'output_0': True, 'output_1': None}\n",
      "Input variables: {'s': '(162)951-i134    '}\n",
      "Returned output variables: {'output_0': True, 'output_1': None}\n",
      "Expected (True) output variables: {'output_0': True, 'output_1': None}\n",
      "Input variables: {'s': '( 144)526-326q   '}\n",
      "Returned output variables: {'output_0': True, 'output_1': None}\n",
      "Expected (True) output variables: {'output_0': True, 'output_1': None}\n",
      "Input variables: {'s': '(374)276-4710'}\n",
      "Returned output variables: {'output_0': False, 'output_1': ('374', '276', '4710')}\n",
      "Expected (True) output variables: {'output_0': False, 'output_1': ('374', '276', '4710')}\n",
      "Input variables: {'s': '(167)9v8-2877    '}\n",
      "Returned output variables: {'output_0': True, 'output_1': None}\n",
      "Expected (True) output variables: {'output_0': True, 'output_1': None}\n",
      "Input variables: {'s': '(038     )596-8180     '}\n",
      "Returned output variables: {'output_0': True, 'output_1': None}\n",
      "Expected (True) output variables: {'output_0': True, 'output_1': None}\n",
      "Passed! Please submit.\n"
     ]
    }
   ],
   "source": [
    "### test_cell_ex2\n",
    "from tester_fw.testers import Tester\n",
    "\n",
    "conf = {\n",
    "    'case_file':'tc_2', \n",
    "    'func': lambda s: eif_wrapper(s, parse_phone1), # replace this with the function defined above\n",
    "    'inputs':{ # input config dict. keys are parameter names\n",
    "        's':{\n",
    "            'dtype':'str', # data type of param.\n",
    "            'check_modified':False,\n",
    "        }\n",
    "    },\n",
    "    'outputs':{\n",
    "        'output_0':{\n",
    "            'index':0,\n",
    "            'dtype':'bool',\n",
    "            'check_dtype': True,\n",
    "            'check_col_dtypes': True, # Ignored if dtype is not df\n",
    "            'check_col_order': True, # Ignored if dtype is not df\n",
    "            'check_row_order': True, # Ignored if dtype is not df\n",
    "            'check_column_type': True, # Ignored if dtype is not df\n",
    "            'float_tolerance': 10 ** (-6)\n",
    "        },\n",
    "        'output_1':{\n",
    "            'index':0,\n",
    "            'dtype':'NoneType',\n",
    "            'check_dtype': True,\n",
    "            'check_col_dtypes': True, # Ignored if dtype is not df\n",
    "            'check_col_order': True, # Ignored if dtype is not df\n",
    "            'check_row_order': True, # Ignored if dtype is not df\n",
    "            'check_column_type': True, # Ignored if dtype is not df\n",
    "            'float_tolerance': 10 ** (-6)\n",
    "        }\n",
    "    }\n",
    "}\n",
    "\n",
    "tester = Tester(conf, key=b'F24oYNyh8kq_wkZD_Oo0ZCPHLcoO-xNXHOYNiPnQmmY=', path='resource/asnlib/publicdata/')\n",
    "\n",
    "for _ in range(70):\n",
    "    try:\n",
    "        tester.run_test()\n",
    "    except Exception as e:\n",
    "        print(f\"Test failed with exception: {e}\")\n",
    "    \n",
    "    # This part will always run, regardless of success or failure\n",
    "    (input_vars, original_input_vars, returned_output_vars, true_output_vars) = tester.get_test_vars()\n",
    "    \n",
    "    # Print out the test variables\n",
    "    print(\"Input variables:\", input_vars)\n",
    "    print(\"Returned output variables:\", returned_output_vars)\n",
    "    print(\"Expected (True) output variables:\", true_output_vars)\n",
    "\n",
    "print('Passed! Please submit.')\n"
   ]
  },
  {
   "cell_type": "code",
   "execution_count": 29,
   "metadata": {
    "deletable": false,
    "editable": false,
    "nbgrader": {
     "grade": true,
     "grade_id": "ex2",
     "locked": true,
     "points": "2",
     "solution": false
    },
    "tags": []
   },
   "outputs": [
    {
     "name": "stdout",
     "output_type": "stream",
     "text": [
      "Passed! Please submit.\n"
     ]
    }
   ],
   "source": [
    "### test_cell_ex2\n",
    "from tester_fw.testers import Tester\n",
    "\n",
    "conf = {\n",
    "    'case_file':'tc_2', \n",
    "    'func': lambda s: eif_wrapper(s, parse_phone1), # replace this with the function defined above\n",
    "    'inputs':{ # input config dict. keys are parameter names\n",
    "        's':{\n",
    "            'dtype':'str', # data type of param.\n",
    "            'check_modified':False,\n",
    "        }\n",
    "    },\n",
    "    'outputs':{\n",
    "        'output_0':{\n",
    "            'index':0,\n",
    "            'dtype':'bool',\n",
    "            'check_dtype': True,\n",
    "            'check_col_dtypes': True, # Ignored if dtype is not df\n",
    "            'check_col_order': True, # Ignored if dtype is not df\n",
    "            'check_row_order': True, # Ignored if dtype is not df\n",
    "            'check_column_type': True, # Ignored if dtype is not df\n",
    "            'float_tolerance': 10 ** (-6)\n",
    "        },\n",
    "        'output_1':{\n",
    "            'index':0,\n",
    "            'dtype':'NoneType',\n",
    "            'check_dtype': True,\n",
    "            'check_col_dtypes': True, # Ignored if dtype is not df\n",
    "            'check_col_order': True, # Ignored if dtype is not df\n",
    "            'check_row_order': True, # Ignored if dtype is not df\n",
    "            'check_column_type': True, # Ignored if dtype is not df\n",
    "            'float_tolerance': 10 ** (-6)\n",
    "        }\n",
    "    }\n",
    "}\n",
    "tester = Tester(conf, key=b'F24oYNyh8kq_wkZD_Oo0ZCPHLcoO-xNXHOYNiPnQmmY=', path='resource/asnlib/publicdata/')\n",
    "for _ in range(70):\n",
    "    try:\n",
    "        tester.run_test()\n",
    "        (input_vars, original_input_vars, returned_output_vars, true_output_vars) = tester.get_test_vars()\n",
    "    except:\n",
    "        (input_vars, original_input_vars, returned_output_vars, true_output_vars) = tester.get_test_vars()\n",
    "        raise\n",
    "\n",
    "print('Passed! Please submit.')"
   ]
  },
  {
   "cell_type": "markdown",
   "metadata": {
    "deletable": false,
    "editable": false,
    "nbgrader": {
     "grade": false,
     "locked": true,
     "solution": false
    },
    "tags": [
     "exercise_text"
    ]
   },
   "source": [
    "**Exercise 3** (3 points). Implement an enhanced phone number parser that can handle any of these patterns.\n",
    "\n",
    "* (404) 555-1212\n",
    "* (404) 5551212\n",
    "* 404-555-1212\n",
    "* 404-5551212\n",
    "* 404555-1212\n",
    "* 4045551212\n",
    "\n",
    "As seen in the examples above, this parser should also handle the cases in which area code is not enclosed in parentheses. As before, it should not be sensitive to leading or trailing spaces. Also, for the patterns in which the area code is enclosed in parentheses, it should not be sensitive to the number of spaces separating the area code from the remainder of the number.\n",
    "\n",
    "The same wrapper function `eif_wrapper` from Exercise 1 will be used for evaluation."
   ]
  },
  {
   "cell_type": "code",
   "execution_count": 30,
   "metadata": {
    "collapsed": true,
    "deletable": false,
    "editable": false,
    "nbgrader": {
     "grade": false,
     "locked": true,
     "solution": false
    },
    "tags": [
     "demo_data"
    ]
   },
   "outputs": [],
   "source": [
    "### Define demo inputs\n",
    "demo_str_ex3_list = ['404-5551212',\n",
    "                     '(404-555-1212']"
   ]
  },
  {
   "cell_type": "markdown",
   "metadata": {
    "deletable": false,
    "editable": false,
    "nbgrader": {
     "grade": false,
     "locked": true,
     "solution": false
    },
    "tags": [
     "demo_output_md"
    ]
   },
   "source": [
    "<!-- Expected demo output text block -->\n",
    "The demo included in the solution cell below should display the following output:\n",
    "```\n",
    "eif_wrapper('404-5551212', parse_phone2) -> (False, ('404', '555', '1212'))\n",
    "eif_wrapper('(404-555-1212', parse_phone2) -> (True, None)\n",
    "```\n",
    "<!-- Include any shout outs here -->\n",
    "**Recall that `eif_wrapper` returns two outputs**:\n",
    "- `bool` indicating whether or not your function raised a `ValueError`\n",
    "- `tuple` (the result of your parsing function) or `None` (when the parsing function raises an error)"
   ]
  },
  {
   "cell_type": "code",
   "execution_count": 34,
   "metadata": {
    "collapsed": true,
    "tags": [
     "exercise_solution"
    ]
   },
   "outputs": [],
   "source": [
    "import re\n",
    "\n",
    "def parse_phone2(s):\n",
    "    # Remove leading and trailing spaces\n",
    "    s = s.strip()\n",
    "    \n",
    "    # Define the regex pattern to match multiple phone number formats\n",
    "    phone_pattern = r'^(?:\\((\\d{3})\\)|(\\d{3}))(?:\\s*|-?)(\\d{3})(?:-?)(\\d{4})$'\n",
    "    \n",
    "    # Check if the input string matches the pattern\n",
    "    match = re.fullmatch(phone_pattern, s)\n",
    "    if match:\n",
    "        # Extract area code, first three digits, and last four digits using capturing groups\n",
    "        area_code = match.group(1) if match.group(1) else match.group(2)\n",
    "        first_three = match.group(3)\n",
    "        last_four = match.group(4)\n",
    "        return (area_code, first_three, last_four)\n",
    "    else:\n",
    "        # Raise a ValueError if the phone number is invalid\n",
    "        raise ValueError(f\"Invalid phone number: {s}\")\n"
   ]
  },
  {
   "cell_type": "markdown",
   "metadata": {
    "deletable": false,
    "editable": false,
    "nbgrader": {
     "grade": false,
     "locked": true,
     "solution": false
    },
    "tags": [
     "test_data_boilerplate"
    ]
   },
   "source": [
    "<!-- Test Cell Boilerplate -->\n",
    "The cell below will test your solution for Exercise 3. The testing variables will be available for debugging under the following names in a dictionary format.\n",
    "- `input_vars` - Input variables for your solution. \n",
    "- `original_input_vars` - Copy of input variables from prior to running your solution. These _should_ be the same as `input_vars` - otherwise the inputs were modified by your solution.\n",
    "- `returned_output_vars` - Outputs returned by your solution.\n",
    "- `true_output_vars` - The expected output. This _should_ \"match\" `returned_output_vars` based on the question requirements - otherwise, your solution is not returning the correct output. "
   ]
  },
  {
   "cell_type": "code",
   "execution_count": 35,
   "metadata": {
    "scrolled": false
   },
   "outputs": [
    {
     "name": "stdout",
     "output_type": "stream",
     "text": [
      "Test Case: {'s': '(914)671-7517 '}\n",
      "Original Input Vars: {}\n",
      "Expected Output: {'output_0': False, 'output_1': ('914', '671', '7517')}\n",
      "Actual Output: {'output_0': False, 'output_1': ('914', '671', '7517')}\n",
      "Parsed Output: (False, ('914', '671', '7517'))\n",
      "Test Passed\n",
      "--------------------------------------------------\n",
      "Test Case: {'s': '7340252901     '}\n",
      "Original Input Vars: {}\n",
      "Expected Output: {'output_0': False, 'output_1': ('734', '025', '2901')}\n",
      "Actual Output: {'output_0': False, 'output_1': ('734', '025', '2901')}\n",
      "Parsed Output: (False, ('734', '025', '2901'))\n",
      "Test Passed\n",
      "--------------------------------------------------\n",
      "Test Case: {'s': '920-827-8101'}\n",
      "Original Input Vars: {}\n",
      "Expected Output: {'output_0': False, 'output_1': ('920', '827', '8101')}\n",
      "Actual Output: {'output_0': False, 'output_1': ('920', '827', '8101')}\n",
      "Parsed Output: (False, ('920', '827', '8101'))\n",
      "Test Passed\n",
      "--------------------------------------------------\n",
      "Test Case: {'s': '(8394385008'}\n",
      "Original Input Vars: {}\n",
      "Expected Output: {'output_0': True, 'output_1': None}\n",
      "Actual Output: {'output_0': True, 'output_1': None}\n",
      "Parsed Output: (True, None)\n",
      "Test Passed\n",
      "--------------------------------------------------\n",
      "Test Case: {'s': '246-0366409  '}\n",
      "Original Input Vars: {}\n",
      "Expected Output: {'output_0': False, 'output_1': ('246', '036', '6409')}\n",
      "Actual Output: {'output_0': False, 'output_1': ('246', '036', '6409')}\n",
      "Parsed Output: (False, ('246', '036', '6409'))\n",
      "Test Passed\n",
      "--------------------------------------------------\n",
      "Test Case: {'s': '     (069) 5909015'}\n",
      "Original Input Vars: {}\n",
      "Expected Output: {'output_0': False, 'output_1': ('069', '590', '9015')}\n",
      "Actual Output: {'output_0': False, 'output_1': ('069', '590', '9015')}\n",
      "Parsed Output: (False, ('069', '590', '9015'))\n",
      "Test Passed\n",
      "--------------------------------------------------\n",
      "Test Case: {'s': '(040     )    012-8370   '}\n",
      "Original Input Vars: {}\n",
      "Expected Output: {'output_0': True, 'output_1': None}\n",
      "Actual Output: {'output_0': True, 'output_1': None}\n",
      "Parsed Output: (True, None)\n",
      "Test Passed\n",
      "--------------------------------------------------\n",
      "Test Case: {'s': '3260436937'}\n",
      "Original Input Vars: {}\n",
      "Expected Output: {'output_0': False, 'output_1': ('326', '043', '6937')}\n",
      "Actual Output: {'output_0': False, 'output_1': ('326', '043', '6937')}\n",
      "Parsed Output: (False, ('326', '043', '6937'))\n",
      "Test Passed\n",
      "--------------------------------------------------\n",
      "Test Case: {'s': '    903-983-0960     '}\n",
      "Original Input Vars: {}\n",
      "Expected Output: {'output_0': False, 'output_1': ('903', '983', '0960')}\n",
      "Actual Output: {'output_0': False, 'output_1': ('903', '983', '0960')}\n",
      "Parsed Output: (False, ('903', '983', '0960'))\n",
      "Test Passed\n",
      "--------------------------------------------------\n",
      "Test Case: {'s': '(732864-65c9     '}\n",
      "Original Input Vars: {}\n",
      "Expected Output: {'output_0': True, 'output_1': None}\n",
      "Actual Output: {'output_0': True, 'output_1': None}\n",
      "Parsed Output: (True, None)\n",
      "Test Passed\n",
      "--------------------------------------------------\n",
      "Test Case: {'s': '(     265)37317d0'}\n",
      "Original Input Vars: {}\n",
      "Expected Output: {'output_0': True, 'output_1': None}\n",
      "Actual Output: {'output_0': True, 'output_1': None}\n",
      "Parsed Output: (True, None)\n",
      "Test Passed\n",
      "--------------------------------------------------\n",
      "Test Case: {'s': '(749277-6845'}\n",
      "Original Input Vars: {}\n",
      "Expected Output: {'output_0': True, 'output_1': None}\n",
      "Actual Output: {'output_0': True, 'output_1': None}\n",
      "Parsed Output: (True, None)\n",
      "Test Passed\n",
      "--------------------------------------------------\n",
      "Test Case: {'s': '775    -226-7122'}\n",
      "Original Input Vars: {}\n",
      "Expected Output: {'output_0': True, 'output_1': None}\n",
      "Actual Output: {'output_0': True, 'output_1': None}\n",
      "Parsed Output: (True, None)\n",
      "Test Passed\n",
      "--------------------------------------------------\n",
      "Test Case: {'s': ' (37132511q3'}\n",
      "Original Input Vars: {}\n",
      "Expected Output: {'output_0': True, 'output_1': None}\n",
      "Actual Output: {'output_0': True, 'output_1': None}\n",
      "Parsed Output: (True, None)\n",
      "Test Passed\n",
      "--------------------------------------------------\n",
      "Test Case: {'s': '417834-7650'}\n",
      "Original Input Vars: {}\n",
      "Expected Output: {'output_0': False, 'output_1': ('417', '834', '7650')}\n",
      "Actual Output: {'output_0': False, 'output_1': ('417', '834', '7650')}\n",
      "Parsed Output: (False, ('417', '834', '7650'))\n",
      "Test Passed\n",
      "--------------------------------------------------\n",
      "Test Case: {'s': '     1310m10869'}\n",
      "Original Input Vars: {}\n",
      "Expected Output: {'output_0': True, 'output_1': None}\n",
      "Actual Output: {'output_0': True, 'output_1': None}\n",
      "Parsed Output: (True, None)\n",
      "Test Passed\n",
      "--------------------------------------------------\n",
      "Test Case: {'s': '775    -226-7122'}\n",
      "Original Input Vars: {}\n",
      "Expected Output: {'output_0': True, 'output_1': None}\n",
      "Actual Output: {'output_0': True, 'output_1': None}\n",
      "Parsed Output: (True, None)\n",
      "Test Passed\n",
      "--------------------------------------------------\n",
      "Test Case: {'s': '(330847-4872     '}\n",
      "Original Input Vars: {}\n",
      "Expected Output: {'output_0': True, 'output_1': None}\n",
      "Actual Output: {'output_0': True, 'output_1': None}\n",
      "Parsed Output: (True, None)\n",
      "Test Passed\n",
      "--------------------------------------------------\n",
      "Test Case: {'s': '(9370667479'}\n",
      "Original Input Vars: {}\n",
      "Expected Output: {'output_0': True, 'output_1': None}\n",
      "Actual Output: {'output_0': True, 'output_1': None}\n",
      "Parsed Output: (True, None)\n",
      "Test Passed\n",
      "--------------------------------------------------\n",
      "Test Case: {'s': '(   211)   294-4196'}\n",
      "Original Input Vars: {}\n",
      "Expected Output: {'output_0': True, 'output_1': None}\n",
      "Actual Output: {'output_0': True, 'output_1': None}\n",
      "Parsed Output: (True, None)\n",
      "Test Passed\n",
      "--------------------------------------------------\n",
      "Test Case: {'s': '   9739222594'}\n",
      "Original Input Vars: {}\n",
      "Expected Output: {'output_0': False, 'output_1': ('973', '922', '2594')}\n",
      "Actual Output: {'output_0': False, 'output_1': ('973', '922', '2594')}\n",
      "Parsed Output: (False, ('973', '922', '2594'))\n",
      "Test Passed\n",
      "--------------------------------------------------\n",
      "Test Case: {'s': '775    -226-7122'}\n",
      "Original Input Vars: {}\n",
      "Expected Output: {'output_0': True, 'output_1': None}\n",
      "Actual Output: {'output_0': True, 'output_1': None}\n",
      "Parsed Output: (True, None)\n",
      "Test Passed\n",
      "--------------------------------------------------\n",
      "Test Case: {'s': '(375210-61o9'}\n",
      "Original Input Vars: {}\n",
      "Expected Output: {'output_0': True, 'output_1': None}\n",
      "Actual Output: {'output_0': True, 'output_1': None}\n",
      "Parsed Output: (True, None)\n",
      "Test Passed\n",
      "--------------------------------------------------\n",
      "Test Case: {'s': '(5u0)4807916'}\n",
      "Original Input Vars: {}\n",
      "Expected Output: {'output_0': True, 'output_1': None}\n",
      "Actual Output: {'output_0': True, 'output_1': None}\n",
      "Parsed Output: (True, None)\n",
      "Test Passed\n",
      "--------------------------------------------------\n",
      "Test Case: {'s': '(373   )6378409'}\n",
      "Original Input Vars: {}\n",
      "Expected Output: {'output_0': True, 'output_1': None}\n",
      "Actual Output: {'output_0': True, 'output_1': None}\n",
      "Parsed Output: (True, None)\n",
      "Test Passed\n",
      "--------------------------------------------------\n",
      "Test Case: {'s': '807384-4836'}\n",
      "Original Input Vars: {}\n",
      "Expected Output: {'output_0': False, 'output_1': ('807', '384', '4836')}\n",
      "Actual Output: {'output_0': False, 'output_1': ('807', '384', '4836')}\n",
      "Parsed Output: (False, ('807', '384', '4836'))\n",
      "Test Passed\n",
      "--------------------------------------------------\n",
      "Test Case: {'s': '(9370667479'}\n",
      "Original Input Vars: {}\n",
      "Expected Output: {'output_0': True, 'output_1': None}\n",
      "Actual Output: {'output_0': True, 'output_1': None}\n",
      "Parsed Output: (True, None)\n",
      "Test Passed\n",
      "--------------------------------------------------\n",
      "Test Case: {'s': '7340252901     '}\n",
      "Original Input Vars: {}\n",
      "Expected Output: {'output_0': False, 'output_1': ('734', '025', '2901')}\n",
      "Actual Output: {'output_0': False, 'output_1': ('734', '025', '2901')}\n",
      "Parsed Output: (False, ('734', '025', '2901'))\n",
      "Test Passed\n",
      "--------------------------------------------------\n",
      "Test Case: {'s': '(0o82618588'}\n",
      "Original Input Vars: {}\n",
      "Expected Output: {'output_0': True, 'output_1': None}\n",
      "Actual Output: {'output_0': True, 'output_1': None}\n",
      "Parsed Output: (True, None)\n",
      "Test Passed\n",
      "--------------------------------------------------\n",
      "Test Case: {'s': '     33721064n6'}\n",
      "Original Input Vars: {}\n",
      "Expected Output: {'output_0': True, 'output_1': None}\n",
      "Actual Output: {'output_0': True, 'output_1': None}\n",
      "Parsed Output: (True, None)\n",
      "Test Passed\n",
      "--------------------------------------------------\n",
      "Test Case: {'s': '699-995-7052'}\n",
      "Original Input Vars: {}\n",
      "Expected Output: {'output_0': False, 'output_1': ('699', '995', '7052')}\n",
      "Actual Output: {'output_0': False, 'output_1': ('699', '995', '7052')}\n",
      "Parsed Output: (False, ('699', '995', '7052'))\n",
      "Test Passed\n",
      "--------------------------------------------------\n",
      "Test Case: {'s': '(264     )622-r547'}\n",
      "Original Input Vars: {}\n",
      "Expected Output: {'output_0': True, 'output_1': None}\n",
      "Actual Output: {'output_0': True, 'output_1': None}\n",
      "Parsed Output: (True, None)\n",
      "Test Passed\n",
      "--------------------------------------------------\n",
      "Test Case: {'s': '(187)0834712'}\n",
      "Original Input Vars: {}\n",
      "Expected Output: {'output_0': False, 'output_1': ('187', '083', '4712')}\n",
      "Actual Output: {'output_0': False, 'output_1': ('187', '083', '4712')}\n",
      "Parsed Output: (False, ('187', '083', '4712'))\n",
      "Test Passed\n",
      "--------------------------------------------------\n",
      "Test Case: {'s': '(821)536-9151'}\n",
      "Original Input Vars: {}\n",
      "Expected Output: {'output_0': False, 'output_1': ('821', '536', '9151')}\n",
      "Actual Output: {'output_0': False, 'output_1': ('821', '536', '9151')}\n",
      "Parsed Output: (False, ('821', '536', '9151'))\n",
      "Test Passed\n",
      "--------------------------------------------------\n",
      "Test Case: {'s': '(     265)37317d0'}\n",
      "Original Input Vars: {}\n",
      "Expected Output: {'output_0': True, 'output_1': None}\n",
      "Actual Output: {'output_0': True, 'output_1': None}\n",
      "Parsed Output: (True, None)\n",
      "Test Passed\n",
      "--------------------------------------------------\n",
      "Test Case: {'s': '(5u0)4807916'}\n",
      "Original Input Vars: {}\n",
      "Expected Output: {'output_0': True, 'output_1': None}\n",
      "Actual Output: {'output_0': True, 'output_1': None}\n",
      "Parsed Output: (True, None)\n",
      "Test Passed\n",
      "--------------------------------------------------\n",
      "Test Case: {'s': '(8394385008'}\n",
      "Original Input Vars: {}\n",
      "Expected Output: {'output_0': True, 'output_1': None}\n",
      "Actual Output: {'output_0': True, 'output_1': None}\n",
      "Parsed Output: (True, None)\n",
      "Test Passed\n",
      "--------------------------------------------------\n",
      "Test Case: {'s': ' 606078-8556    '}\n",
      "Original Input Vars: {}\n",
      "Expected Output: {'output_0': False, 'output_1': ('606', '078', '8556')}\n",
      "Actual Output: {'output_0': False, 'output_1': ('606', '078', '8556')}\n",
      "Parsed Output: (False, ('606', '078', '8556'))\n",
      "Test Passed\n",
      "--------------------------------------------------\n",
      "Test Case: {'s': '07708y-8856'}\n",
      "Original Input Vars: {}\n",
      "Expected Output: {'output_0': True, 'output_1': None}\n",
      "Actual Output: {'output_0': True, 'output_1': None}\n",
      "Parsed Output: (True, None)\n",
      "Test Passed\n",
      "--------------------------------------------------\n",
      "Test Case: {'s': '05t952-8723'}\n",
      "Original Input Vars: {}\n",
      "Expected Output: {'output_0': True, 'output_1': None}\n",
      "Actual Output: {'output_0': True, 'output_1': None}\n",
      "Parsed Output: (True, None)\n",
      "Test Passed\n",
      "--------------------------------------------------\n",
      "Test Case: {'s': '(250)9402253'}\n",
      "Original Input Vars: {}\n",
      "Expected Output: {'output_0': False, 'output_1': ('250', '940', '2253')}\n",
      "Actual Output: {'output_0': False, 'output_1': ('250', '940', '2253')}\n",
      "Parsed Output: (False, ('250', '940', '2253'))\n",
      "Test Passed\n",
      "--------------------------------------------------\n",
      "Test Case: {'s': '    8781482841'}\n",
      "Original Input Vars: {}\n",
      "Expected Output: {'output_0': False, 'output_1': ('878', '148', '2841')}\n",
      "Actual Output: {'output_0': False, 'output_1': ('878', '148', '2841')}\n",
      "Parsed Output: (False, ('878', '148', '2841'))\n",
      "Test Passed\n",
      "--------------------------------------------------\n",
      "Test Case: {'s': '5650t75861'}\n",
      "Original Input Vars: {}\n",
      "Expected Output: {'output_0': True, 'output_1': None}\n",
      "Actual Output: {'output_0': True, 'output_1': None}\n",
      "Parsed Output: (True, None)\n",
      "Test Passed\n",
      "--------------------------------------------------\n",
      "Test Case: {'s': '546759-7960    '}\n",
      "Original Input Vars: {}\n",
      "Expected Output: {'output_0': False, 'output_1': ('546', '759', '7960')}\n",
      "Actual Output: {'output_0': False, 'output_1': ('546', '759', '7960')}\n",
      "Parsed Output: (False, ('546', '759', '7960'))\n",
      "Test Passed\n",
      "--------------------------------------------------\n",
      "Test Case: {'s': '    8781482841'}\n",
      "Original Input Vars: {}\n",
      "Expected Output: {'output_0': False, 'output_1': ('878', '148', '2841')}\n",
      "Actual Output: {'output_0': False, 'output_1': ('878', '148', '2841')}\n",
      "Parsed Output: (False, ('878', '148', '2841'))\n",
      "Test Passed\n",
      "--------------------------------------------------\n",
      "Test Case: {'s': '    916     )33w7352'}\n",
      "Original Input Vars: {}\n",
      "Expected Output: {'output_0': True, 'output_1': None}\n",
      "Actual Output: {'output_0': True, 'output_1': None}\n",
      "Parsed Output: (True, None)\n",
      "Test Passed\n",
      "--------------------------------------------------\n",
      "Test Case: {'s': '99x-891-3064'}\n",
      "Original Input Vars: {}\n",
      "Expected Output: {'output_0': True, 'output_1': None}\n",
      "Actual Output: {'output_0': True, 'output_1': None}\n",
      "Parsed Output: (True, None)\n",
      "Test Passed\n",
      "--------------------------------------------------\n",
      "Test Case: {'s': '(0802862660'}\n",
      "Original Input Vars: {}\n",
      "Expected Output: {'output_0': True, 'output_1': None}\n",
      "Actual Output: {'output_0': True, 'output_1': None}\n",
      "Parsed Output: (True, None)\n",
      "Test Passed\n",
      "--------------------------------------------------\n",
      "Test Case: {'s': '821   -996-0263'}\n",
      "Original Input Vars: {}\n",
      "Expected Output: {'output_0': True, 'output_1': None}\n",
      "Actual Output: {'output_0': True, 'output_1': None}\n",
      "Parsed Output: (True, None)\n",
      "Test Passed\n",
      "--------------------------------------------------\n",
      "Test Case: {'s': '548 -116-8372'}\n",
      "Original Input Vars: {}\n",
      "Expected Output: {'output_0': True, 'output_1': None}\n",
      "Actual Output: {'output_0': True, 'output_1': None}\n",
      "Parsed Output: (True, None)\n",
      "Test Passed\n",
      "--------------------------------------------------\n",
      "Test Case: {'s': '(330847-4872     '}\n",
      "Original Input Vars: {}\n",
      "Expected Output: {'output_0': True, 'output_1': None}\n",
      "Actual Output: {'output_0': True, 'output_1': None}\n",
      "Parsed Output: (True, None)\n",
      "Test Passed\n",
      "--------------------------------------------------\n",
      "Test Case: {'s': ' 606078-8556    '}\n",
      "Original Input Vars: {}\n",
      "Expected Output: {'output_0': False, 'output_1': ('606', '078', '8556')}\n",
      "Actual Output: {'output_0': False, 'output_1': ('606', '078', '8556')}\n",
      "Parsed Output: (False, ('606', '078', '8556'))\n",
      "Test Passed\n",
      "--------------------------------------------------\n",
      "Test Case: {'s': '(373   )6378409'}\n",
      "Original Input Vars: {}\n",
      "Expected Output: {'output_0': True, 'output_1': None}\n",
      "Actual Output: {'output_0': True, 'output_1': None}\n",
      "Parsed Output: (True, None)\n",
      "Test Passed\n",
      "--------------------------------------------------\n",
      "Test Case: {'s': '(     265)37317d0'}\n",
      "Original Input Vars: {}\n",
      "Expected Output: {'output_0': True, 'output_1': None}\n",
      "Actual Output: {'output_0': True, 'output_1': None}\n",
      "Parsed Output: (True, None)\n",
      "Test Passed\n",
      "--------------------------------------------------\n",
      "Test Case: {'s': '   (152  )3814555'}\n",
      "Original Input Vars: {}\n",
      "Expected Output: {'output_0': True, 'output_1': None}\n",
      "Actual Output: {'output_0': True, 'output_1': None}\n",
      "Parsed Output: (True, None)\n",
      "Test Passed\n",
      "--------------------------------------------------\n",
      "Test Case: {'s': '    8781482841'}\n",
      "Original Input Vars: {}\n",
      "Expected Output: {'output_0': False, 'output_1': ('878', '148', '2841')}\n",
      "Actual Output: {'output_0': False, 'output_1': ('878', '148', '2841')}\n",
      "Parsed Output: (False, ('878', '148', '2841'))\n",
      "Test Passed\n",
      "--------------------------------------------------\n",
      "Test Case: {'s': '(9370667479'}\n",
      "Original Input Vars: {}\n",
      "Expected Output: {'output_0': True, 'output_1': None}\n",
      "Actual Output: {'output_0': True, 'output_1': None}\n",
      "Parsed Output: (True, None)\n",
      "Test Passed\n",
      "--------------------------------------------------\n",
      "Test Case: {'s': '993-930-1290'}\n",
      "Original Input Vars: {}\n",
      "Expected Output: {'output_0': False, 'output_1': ('993', '930', '1290')}\n",
      "Actual Output: {'output_0': False, 'output_1': ('993', '930', '1290')}\n",
      "Parsed Output: (False, ('993', '930', '1290'))\n",
      "Test Passed\n",
      "--------------------------------------------------\n",
      "Test Case: {'s': '(844)692-4420   '}\n",
      "Original Input Vars: {}\n",
      "Expected Output: {'output_0': False, 'output_1': ('844', '692', '4420')}\n",
      "Actual Output: {'output_0': False, 'output_1': ('844', '692', '4420')}\n",
      "Parsed Output: (False, ('844', '692', '4420'))\n",
      "Test Passed\n",
      "--------------------------------------------------\n",
      "Test Case: {'s': '(105)     2176121'}\n",
      "Original Input Vars: {}\n",
      "Expected Output: {'output_0': False, 'output_1': ('105', '217', '6121')}\n",
      "Actual Output: {'output_0': False, 'output_1': ('105', '217', '6121')}\n",
      "Parsed Output: (False, ('105', '217', '6121'))\n",
      "Test Passed\n",
      "--------------------------------------------------\n",
      "Test Case: {'s': '(180)363-6b05'}\n",
      "Original Input Vars: {}\n",
      "Expected Output: {'output_0': True, 'output_1': None}\n",
      "Actual Output: {'output_0': True, 'output_1': None}\n",
      "Parsed Output: (True, None)\n",
      "Test Passed\n",
      "--------------------------------------------------\n",
      "Test Case: {'s': '  859-0675744  '}\n",
      "Original Input Vars: {}\n",
      "Expected Output: {'output_0': False, 'output_1': ('859', '067', '5744')}\n",
      "Actual Output: {'output_0': False, 'output_1': ('859', '067', '5744')}\n",
      "Parsed Output: (False, ('859', '067', '5744'))\n",
      "Test Passed\n",
      "--------------------------------------------------\n",
      "Test Case: {'s': '(531  )    844-1576'}\n",
      "Original Input Vars: {}\n",
      "Expected Output: {'output_0': True, 'output_1': None}\n",
      "Actual Output: {'output_0': True, 'output_1': None}\n",
      "Parsed Output: (True, None)\n",
      "Test Passed\n",
      "--------------------------------------------------\n",
      "Test Case: {'s': '106974-9d02'}\n",
      "Original Input Vars: {}\n",
      "Expected Output: {'output_0': True, 'output_1': None}\n",
      "Actual Output: {'output_0': True, 'output_1': None}\n",
      "Parsed Output: (True, None)\n",
      "Test Passed\n",
      "--------------------------------------------------\n",
      "Test Case: {'s': '492868-3766'}\n",
      "Original Input Vars: {}\n",
      "Expected Output: {'output_0': False, 'output_1': ('492', '868', '3766')}\n",
      "Actual Output: {'output_0': False, 'output_1': ('492', '868', '3766')}\n",
      "Parsed Output: (False, ('492', '868', '3766'))\n",
      "Test Passed\n",
      "--------------------------------------------------\n",
      "Test Case: {'s': '(264     )622-r547'}\n",
      "Original Input Vars: {}\n",
      "Expected Output: {'output_0': True, 'output_1': None}\n",
      "Actual Output: {'output_0': True, 'output_1': None}\n",
      "Parsed Output: (True, None)\n",
      "Test Passed\n",
      "--------------------------------------------------\n",
      "Test Case: {'s': '(962     )087w517'}\n",
      "Original Input Vars: {}\n",
      "Expected Output: {'output_0': True, 'output_1': None}\n",
      "Actual Output: {'output_0': True, 'output_1': None}\n",
      "Parsed Output: (True, None)\n",
      "Test Passed\n",
      "--------------------------------------------------\n",
      "Test Case: {'s': '(373   )6378409'}\n",
      "Original Input Vars: {}\n",
      "Expected Output: {'output_0': True, 'output_1': None}\n",
      "Actual Output: {'output_0': True, 'output_1': None}\n",
      "Parsed Output: (True, None)\n",
      "Test Passed\n",
      "--------------------------------------------------\n",
      "Test Case: {'s': '     (5074931524'}\n",
      "Original Input Vars: {}\n",
      "Expected Output: {'output_0': True, 'output_1': None}\n",
      "Actual Output: {'output_0': True, 'output_1': None}\n",
      "Parsed Output: (True, None)\n",
      "Test Passed\n",
      "--------------------------------------------------\n",
      "Test Case: {'s': '775    -226-7122'}\n",
      "Original Input Vars: {}\n",
      "Expected Output: {'output_0': True, 'output_1': None}\n",
      "Actual Output: {'output_0': True, 'output_1': None}\n",
      "Parsed Output: (True, None)\n",
      "Test Passed\n",
      "--------------------------------------------------\n",
      "All tests completed.\n"
     ]
    }
   ],
   "source": [
    "### test_cell_ex3\n",
    "from tester_fw.testers import Tester\n",
    "\n",
    "conf = {\n",
    "    'case_file': 'tc_3', \n",
    "    'func': lambda s: eif_wrapper(s, parse_phone2),  # replace this with the function defined above\n",
    "    'inputs': {  # input config dict. keys are parameter names\n",
    "        's': {\n",
    "            'dtype': 'str',  # data type of param.\n",
    "            'check_modified': False,\n",
    "        }\n",
    "    },\n",
    "    'outputs': {\n",
    "        'output_0': {\n",
    "            'index': 0,\n",
    "            'dtype': 'bool',\n",
    "            'check_dtype': True,\n",
    "            'check_col_dtypes': True,  # Ignored if dtype is not df\n",
    "            'check_col_order': True,  # Ignored if dtype is not df\n",
    "            'check_row_order': True,  # Ignored if dtype is not df\n",
    "            'check_column_type': True,  # Ignored if dtype is not df\n",
    "            'float_tolerance': 10 ** (-6)\n",
    "        },\n",
    "        'output_1': {\n",
    "            'index': 1,\n",
    "            'dtype': 'NoneType',\n",
    "            'check_dtype': True,\n",
    "            'check_col_dtypes': True,  # Ignored if dtype is not df\n",
    "            'check_col_order': True,  # Ignored if dtype is not df\n",
    "            'check_row_order': True,  # Ignored if dtype is not df\n",
    "            'check_column_type': True,  # Ignored if dtype is not df\n",
    "            'float_tolerance': 10 ** (-6)\n",
    "        },\n",
    "    }\n",
    "}\n",
    "\n",
    "# Initialize the Tester\n",
    "tester = Tester(conf, key=b'F24oYNyh8kq_wkZD_Oo0ZCPHLcoO-xNXHOYNiPnQmmY=', path='resource/asnlib/publicdata/')\n",
    "\n",
    "# Loop to run all tests and collect results\n",
    "for _ in range(70):\n",
    "    try:\n",
    "        # Run the test\n",
    "        tester.run_test()\n",
    "\n",
    "        # Retrieve test variables\n",
    "        (input_vars, original_input_vars, returned_output_vars, true_output_vars) = tester.get_test_vars()\n",
    "\n",
    "        # Print the input, expected output, and actual output for each test case\n",
    "        print(f\"Test Case: {input_vars}\")\n",
    "        print(f\"Original Input Vars: {original_input_vars}\")\n",
    "        print(f\"Expected Output: {true_output_vars}\")\n",
    "        print(f\"Actual Output: {returned_output_vars}\")\n",
    "\n",
    "        # Debug: Print intermediate steps of the function\n",
    "        parsed_output = eif_wrapper(input_vars['s'], parse_phone2)\n",
    "        print(f\"Parsed Output: {parsed_output}\")\n",
    "\n",
    "        # Check if the test passed or failed\n",
    "        if returned_output_vars == true_output_vars:\n",
    "            print(\"Test Passed\")\n",
    "        else:\n",
    "            print(\"Test Failed\")\n",
    "        print(\"-\" * 50)  # Divider for clarity between test cases\n",
    "\n",
    "    except Exception as e:\n",
    "        # If there's an exception, print details for debugging\n",
    "        print(f\"Test Case: {input_vars}\")\n",
    "        print(f\"Original Input Vars: {original_input_vars}\")\n",
    "        print(f\"Expected Output: {true_output_vars}\")\n",
    "        print(f\"Actual Output: {returned_output_vars}\")\n",
    "        print(f\"Exception: {e}\")\n",
    "        print(\"Test Failed\")\n",
    "        print(\"-\" * 50)  # Divider for clarity between test cases\n",
    "\n",
    "print('All tests completed.')\n"
   ]
  },
  {
   "cell_type": "code",
   "execution_count": 36,
   "metadata": {
    "deletable": false,
    "editable": false,
    "nbgrader": {
     "grade": true,
     "grade_id": "ex3",
     "locked": true,
     "points": "3",
     "solution": false
    },
    "tags": []
   },
   "outputs": [
    {
     "name": "stdout",
     "output_type": "stream",
     "text": [
      "Passed! Please submit.\n"
     ]
    }
   ],
   "source": [
    "### test_cell_ex3\n",
    "from tester_fw.testers import Tester\n",
    "\n",
    "conf = {\n",
    "    'case_file':'tc_3', \n",
    "    'func': lambda s: eif_wrapper(s, parse_phone2), # replace this with the function defined above\n",
    "    'inputs':{ # input config dict. keys are parameter names\n",
    "        's':{\n",
    "            'dtype':'str', # data type of param.\n",
    "            'check_modified':False,\n",
    "        }\n",
    "    },\n",
    "    'outputs':{\n",
    "        'output_0':{\n",
    "            'index':0,\n",
    "            'dtype':'bool',\n",
    "            'check_dtype': True,\n",
    "            'check_col_dtypes': True, # Ignored if dtype is not df\n",
    "            'check_col_order': True, # Ignored if dtype is not df\n",
    "            'check_row_order': True, # Ignored if dtype is not df\n",
    "            'check_column_type': True, # Ignored if dtype is not df\n",
    "            'float_tolerance': 10 ** (-6)\n",
    "        },\n",
    "        'output_1':{\n",
    "            'index':1,\n",
    "            'dtype':'NoneType',\n",
    "            'check_dtype': True,\n",
    "            'check_col_dtypes': True, # Ignored if dtype is not df\n",
    "            'check_col_order': True, # Ignored if dtype is not df\n",
    "            'check_row_order': True, # Ignored if dtype is not df\n",
    "            'check_column_type': True, # Ignored if dtype is not df\n",
    "            'float_tolerance': 10 ** (-6)\n",
    "        },\n",
    "        \n",
    "    }\n",
    "}\n",
    "tester = Tester(conf, key=b'F24oYNyh8kq_wkZD_Oo0ZCPHLcoO-xNXHOYNiPnQmmY=', path='resource/asnlib/publicdata/')\n",
    "for _ in range(70):\n",
    "    try:\n",
    "        tester.run_test()\n",
    "        (input_vars, original_input_vars, returned_output_vars, true_output_vars) = tester.get_test_vars()\n",
    "    except:\n",
    "        (input_vars, original_input_vars, returned_output_vars, true_output_vars) = tester.get_test_vars()\n",
    "        raise\n",
    "\n",
    "print('Passed! Please submit.')"
   ]
  },
  {
   "cell_type": "markdown",
   "metadata": {
    "deletable": false,
    "editable": false,
    "nbgrader": {
     "grade": false,
     "locked": true,
     "solution": false
    },
    "tags": [
     "fin"
    ]
   },
   "source": [
    "**Fin!** This cell marks the end of Part 0. Don't forget to save, restart and rerun all cells, and submit it. When you are done, proceed to Parts 1 and 2."
   ]
  }
 ],
 "metadata": {
  "kernelspec": {
   "display_name": "Python 3.8",
   "language": "python",
   "name": "python38"
  },
  "language_info": {
   "codemirror_mode": {
    "name": "ipython",
    "version": 3
   },
   "file_extension": ".py",
   "mimetype": "text/x-python",
   "name": "python",
   "nbconvert_exporter": "python",
   "pygments_lexer": "ipython3",
   "version": "3.8.7"
  }
 },
 "nbformat": 4,
 "nbformat_minor": 5
}
